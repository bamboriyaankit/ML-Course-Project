{
  "nbformat": 4,
  "nbformat_minor": 0,
  "metadata": {
    "colab": {
      "name": "ML_Project_VAE_CIFAR.ipynb",
      "provenance": []
    },
    "kernelspec": {
      "name": "python3",
      "display_name": "Python 3"
    },
    "language_info": {
      "name": "python"
    },
    "accelerator": "GPU"
  },
  "cells": [
    {
      "cell_type": "code",
      "metadata": {
        "id": "3CtfFK5Hl54U",
        "colab": {
          "base_uri": "https://localhost:8080/"
        },
        "outputId": "1c24b0ab-f2ee-46e5-815b-17753d283dea"
      },
      "source": [
        "# importing all the required libraries\n",
        "\n",
        "import torch\n",
        "import torch.nn as nn\n",
        "import torch.nn.functional as F\n",
        "import torchvision.transforms as transforms\n",
        "from torch.utils.data import DataLoader\n",
        "from torchvision.datasets import CIFAR10\n",
        "import torch.distributions \n",
        "\n",
        "from PIL import Image\n",
        "import torchvision.utils\n",
        "import numpy as np\n",
        "import matplotlib.pyplot as plt\n",
        "\n",
        "# checking for device\n",
        "device = torch.device(\"cuda:0\" if torch.cuda.is_available() else \"cpu\")\n",
        "print(device)"
      ],
      "execution_count": null,
      "outputs": [
        {
          "output_type": "stream",
          "text": [
            "cuda:0\n"
          ],
          "name": "stdout"
        }
      ]
    },
    {
      "cell_type": "code",
      "metadata": {
        "colab": {
          "base_uri": "https://localhost:8080/",
          "height": 352
        },
        "id": "qb9eOxSzpWgq",
        "outputId": "6c67dee6-da28-436e-8912-82239b41c293"
      },
      "source": [
        "transform = transforms.Compose([transforms.ToTensor()])\n",
        "\n",
        "#downloading mnist dataset\n",
        "train_data = CIFAR10('CIFAR10_Data', download = True,train = True, transform = transform) \n",
        "test_data =CIFAR10('CIFAR10_Data', download = True, train= False, transform = transform)\n",
        "\n",
        "#Loading the data in data loader\n",
        "BATCH_SIZE = 100\n",
        "train_dataloader = DataLoader(train_data, batch_size=BATCH_SIZE ,shuffle= True)\n",
        "test_dataloader = DataLoader(test_data, batch_size= BATCH_SIZE, shuffle = True)\n",
        "\n",
        "# showing some of the data samples\n",
        "examples = enumerate(train_dataloader)\n",
        "batch_idx, (example_data, example_targets) = next(examples)\n",
        "\n",
        "print(example_data.shape)\n",
        "print(type(train_data))\n",
        "fig = plt.figure()\n",
        "for i in range(6):\n",
        "  plt.subplot(2,3,i+1)\n",
        "  plt.tight_layout()\n",
        "  plt.imshow(example_data[i][0], cmap='gray', interpolation='none')\n",
        "  plt.title('Label :' + str(int(example_targets[i])))\n",
        "  plt.xticks([])\n",
        "  plt.yticks([])\n",
        "fig.show()"
      ],
      "execution_count": null,
      "outputs": [
        {
          "output_type": "stream",
          "text": [
            "Files already downloaded and verified\n",
            "Files already downloaded and verified\n",
            "torch.Size([100, 3, 32, 32])\n",
            "<class 'torchvision.datasets.cifar.CIFAR10'>\n"
          ],
          "name": "stdout"
        },
        {
          "output_type": "display_data",
          "data": {
            "image/png": "[encoded data removed]",
            "text/plain": [
              "<Figure size 432x288 with 6 Axes>"
            ]
          },
          "metadata": {
            "tags": []
          }
        }
      ]
    },
    {
      "cell_type": "code",
      "metadata": {
        "id": "thiJWHDCpy09"
      },
      "source": [
        "# class for encoder\n",
        "class EncoderModule(nn.Module):\n",
        "    def __init__(self, input_channels, output_channels, stride, kernel, pad):\n",
        "        super().__init__()\n",
        "        self.conv = nn.Conv2d(input_channels, output_channels, kernel_size=kernel, padding=pad, stride=stride)\n",
        "        self.bn = nn.BatchNorm2d(output_channels)\n",
        "        self.relu = nn.ReLU(inplace=True)\n",
        "\n",
        "    def forward(self, x):\n",
        "        return self.relu(self.bn(self.conv(x)))\n",
        "\n",
        "class Encoder(nn.Module):\n",
        "    def __init__(self, color_channels, pooling_kernels, n_neurons_in_middle_layer):\n",
        "        self.n_neurons_in_middle_layer = n_neurons_in_middle_layer\n",
        "        super().__init__()\n",
        "        self.bottle = EncoderModule(color_channels, 32, stride=1, kernel=1, pad=0)\n",
        "        self.m1 = EncoderModule(32, 64, stride=1, kernel=3, pad=1)\n",
        "        self.m2 = EncoderModule(64, 128, stride=pooling_kernels[0], kernel=3, pad=1)\n",
        "        self.m3 = EncoderModule(128, 256, stride=pooling_kernels[1], kernel=3, pad=1)\n",
        "\n",
        "    def forward(self, x):\n",
        "        out = self.m3(self.m2(self.m1(self.bottle(x))))\n",
        "        return out.view(-1, self.n_neurons_in_middle_layer)\n",
        "\n",
        "\n",
        "#class for decoder\n",
        "class DecoderModule(nn.Module):\n",
        "    def __init__(self, input_channels, output_channels, stride, activation=\"relu\"):\n",
        "        super().__init__()\n",
        "        self.convt = nn.ConvTranspose2d(input_channels, output_channels, kernel_size=stride, stride=stride)\n",
        "        self.bn = nn.BatchNorm2d(output_channels)\n",
        "        if activation == \"relu\":\n",
        "            self.activation = nn.ReLU(inplace=True)\n",
        "        elif activation == \"sigmoid\":\n",
        "            self.activation = nn.Sigmoid()\n",
        "\n",
        "    def forward(self, x):\n",
        "        return self.activation(self.bn(self.convt(x)))\n",
        "\n",
        "class Decoder(nn.Module):\n",
        "    def __init__(self, color_channels, pooling_kernels, decoder_input_size):\n",
        "        self.decoder_input_size = decoder_input_size\n",
        "        super().__init__()\n",
        "        self.m1 = DecoderModule(256, 128, stride=1)\n",
        "        self.m2 = DecoderModule(128, 64, stride=pooling_kernels[1])\n",
        "        self.m3 = DecoderModule(64, 32, stride=pooling_kernels[0])\n",
        "        self.bottle = DecoderModule(32, color_channels, stride=1, activation=\"sigmoid\")\n",
        "\n",
        "    def forward(self, x):\n",
        "        out = x.view(-1, 256, self.decoder_input_size, self.decoder_input_size)\n",
        "        out = self.m3(self.m2(self.m1(out)))\n",
        "        return self.bottle(out)\n",
        "\n"
      ],
      "execution_count": null,
      "outputs": []
    },
    {
      "cell_type": "code",
      "metadata": {
        "id": "J5b4zb8zt7G-"
      },
      "source": [
        "# class for VAE\n",
        "class VAE(nn.Module):\n",
        "    def __init__(self,latent ,kernel,encoder_out_size, channels):\n",
        "        super().__init__()\n",
        "        self.n_latent_features = latent\n",
        "        pooling_kernel = kernel\n",
        "        encoder_output_size = encoder_out_size\n",
        "        color_channels = channels\n",
        "\n",
        "        n_neurons_middle_layer = 256 * encoder_output_size * encoder_output_size\n",
        "\n",
        "        # Encoder\n",
        "        self.encoder = Encoder(color_channels, pooling_kernel, n_neurons_middle_layer)\n",
        "        # Middle\n",
        "        self.fc1 = nn.Linear(n_neurons_middle_layer, self.n_latent_features)\n",
        "        self.fc2 = nn.Linear(n_neurons_middle_layer, self.n_latent_features)\n",
        "        self.fc3 = nn.Linear(self.n_latent_features, n_neurons_middle_layer)\n",
        "        # Decoder\n",
        "        self.decoder = Decoder(color_channels, pooling_kernel, encoder_output_size)\n",
        "\n",
        "    def _reparameterize(self, mu, logvar):\n",
        "        std = logvar.mul(0.5).exp_()\n",
        "        esp = torch.randn(*mu.size()).to(device)\n",
        "        z = mu + std * esp\n",
        "        return z\n",
        "    \n",
        "    def _bottleneck(self, h):\n",
        "        mu, logvar = self.fc1(h), self.fc2(h)\n",
        "        z = self._reparameterize(mu, logvar)\n",
        "        return z, mu, logvar\n",
        "        \n",
        "    def sampling(self):\n",
        "        z = torch.randn(64, self.n_latent_features).to(device)\n",
        "        z = self.fc3(z)\n",
        "       \n",
        "        return self.decoder(z)\n",
        "\n",
        "    def forward(self, x):\n",
        "        h = self.encoder(x)\n",
        "        z, mu, logvar = self._bottleneck(h)\n",
        "        z = self.fc3(z)\n",
        "        d = self.decoder(z)\n",
        "        return d, mu, logvar"
      ],
      "execution_count": null,
      "outputs": []
    },
    {
      "cell_type": "code",
      "metadata": {
        "colab": {
          "base_uri": "https://localhost:8080/"
        },
        "id": "KjsEJGCfwpsI",
        "outputId": "967a2a0c-6ccf-40d6-9dc4-eec950a6595f"
      },
      "source": [
        "#Training VAE\n",
        "\n",
        "def loss_function(recon_x, x, mu, logvar):\n",
        "    BCE = F.binary_cross_entropy(recon_x, x, size_average=False)        \n",
        "    KLD = -0.5 * torch.sum(1 + logvar - mu.pow(2) - logvar.exp())\n",
        "    return BCE + KLD\n",
        "\n",
        "latent_size = 64\n",
        "kernel = [4,2]\n",
        "encoder_out = 4\n",
        "channels = 3\n",
        "vae = VAE(latent_size, kernel, encoder_out, channels).to(device)\n",
        "\n",
        "\n",
        "\n",
        "epochs = 25\n",
        "learning_rate = 0.001\n",
        "optimizer = torch.optim.Adam(vae.parameters(), lr = learning_rate)\n",
        "\n",
        "losses = []\n",
        "for epoch in range(epochs):\n",
        "    for batch_idx, (inputs, _) in enumerate(train_dataloader):\n",
        "        inputs = inputs.to(device)\n",
        "        optimizer.zero_grad()\n",
        "        \n",
        "        recon_batch, mu, logvar = vae(inputs)\n",
        "\n",
        "        loss = loss_function(recon_batch, inputs, mu, logvar)\n",
        "        loss.backward()\n",
        "        optimizer.step()\n",
        "\n",
        "\n",
        "    losses.append(loss)\n"
      ],
      "execution_count": null,
      "outputs": [
        {
          "output_type": "stream",
          "text": [
            "/usr/local/lib/python3.7/dist-packages/torch/nn/_reduction.py:42: UserWarning: size_average and reduce args will be deprecated, please use reduction='sum' instead.\n",
            "  warnings.warn(warning.format(ret))\n"
          ],
          "name": "stderr"
        }
      ]
    },
    {
      "cell_type": "code",
      "metadata": {
        "colab": {
          "base_uri": "https://localhost:8080/",
          "height": 295
        },
        "id": "-7SuLPv_H7aP",
        "outputId": "6e12bede-0d37-4fdc-d754-0ad1b7e9cdaf"
      },
      "source": [
        "plt.xlabel('Epochs')\n",
        "plt.ylabel('Loss')\n",
        "plt.title(\"Graph between Loss function and number of Epochs\")\n",
        "plt.plot(losses)\n",
        "plt.show()"
      ],
      "execution_count": null,
      "outputs": [
        {
          "output_type": "display_data",
          "data": {
            "image/png": "[encoded data removed]",
            "text/plain": [
              "<Figure size 432x288 with 1 Axes>"
            ]
          },
          "metadata": {
            "tags": [],
            "needs_background": "light"
          }
        }
      ]
    },
    {
      "cell_type": "code",
      "metadata": {
        "id": "_bejkn5ewwfo"
      },
      "source": [
        "# saving model\n",
        "PATH = 'saved_VAE_model.pth'\n",
        "torch.save(vae, PATH)\n"
      ],
      "execution_count": null,
      "outputs": []
    },
    {
      "cell_type": "code",
      "metadata": {
        "id": "GiPPjlyaIFcC"
      },
      "source": [
        "PATH = 'saved_VAE_model.pth'\n",
        "#loading the model\n",
        "vae_model = torch.load(PATH)\n"
      ],
      "execution_count": null,
      "outputs": []
    },
    {
      "cell_type": "code",
      "metadata": {
        "colab": {
          "base_uri": "https://localhost:8080/"
        },
        "id": "PjQwuMAWIGrs",
        "outputId": "9118b149-3e15-4805-a587-e77aba570a87"
      },
      "source": [
        "from torchvision.utils import save_image\n",
        "\n",
        "vae.eval()\n",
        "val_loss = 0\n",
        "samples_cnt = 0\n",
        "for epoch in range(epochs):\n",
        "    with torch.no_grad():\n",
        "        for batch_idx, (inputs, _) in enumerate(test_dataloader):\n",
        "            inputs = inputs.to(device)\n",
        "            recon_batch, mu, logvar = vae(inputs)\n",
        "            val_loss += loss_function(recon_batch, inputs, mu, logvar).item()\n",
        "            samples_cnt += inputs.size(0)\n",
        "\n",
        "            if batch_idx == 0:\n",
        "                save_image(recon_batch, f\"{'VAE'}.png\", nrow=8)\n",
        "\n",
        "        print(batch_idx, len(test_dataloader), f\"ValLoss: {val_loss/samples_cnt:f}\")\n",
        "\n",
        "    save_image(vae.sampling(), f\"{'VAE'}{str(epoch)}.png\", nrow=8)\n"
      ],
      "execution_count": null,
      "outputs": [
        {
          "output_type": "stream",
          "text": [
            "/usr/local/lib/python3.7/dist-packages/torch/nn/_reduction.py:42: UserWarning: size_average and reduce args will be deprecated, please use reduction='sum' instead.\n",
            "  warnings.warn(warning.format(ret))\n"
          ],
          "name": "stderr"
        },
        {
          "output_type": "stream",
          "text": [
            "99 100 ValLoss: 1821.805717\n",
            "99 100 ValLoss: 1821.765947\n",
            "99 100 ValLoss: 1821.748315\n",
            "99 100 ValLoss: 1821.732628\n",
            "99 100 ValLoss: 1821.753036\n",
            "99 100 ValLoss: 1821.753735\n",
            "99 100 ValLoss: 1821.733498\n",
            "99 100 ValLoss: 1821.724908\n",
            "99 100 ValLoss: 1821.723095\n",
            "99 100 ValLoss: 1821.725476\n",
            "99 100 ValLoss: 1821.724579\n",
            "99 100 ValLoss: 1821.730361\n",
            "99 100 ValLoss: 1821.730407\n",
            "99 100 ValLoss: 1821.734220\n",
            "99 100 ValLoss: 1821.734590\n",
            "99 100 ValLoss: 1821.734388\n",
            "99 100 ValLoss: 1821.734025\n",
            "99 100 ValLoss: 1821.739364\n",
            "99 100 ValLoss: 1821.739500\n",
            "99 100 ValLoss: 1821.738550\n",
            "99 100 ValLoss: 1821.737431\n",
            "99 100 ValLoss: 1821.742146\n",
            "99 100 ValLoss: 1821.738590\n",
            "99 100 ValLoss: 1821.743144\n",
            "99 100 ValLoss: 1821.741991\n"
          ],
          "name": "stdout"
        }
      ]
    },
    {
      "cell_type": "code",
      "metadata": {
        "id": "bi6Un3WfIWFU"
      },
      "source": [
        ""
      ],
      "execution_count": null,
      "outputs": []
    }
  ]
}